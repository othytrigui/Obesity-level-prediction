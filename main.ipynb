{
 "cells": [
  {
   "cell_type": "code",
   "execution_count": 69,
   "id": "initial_id",
   "metadata": {
    "collapsed": true,
    "ExecuteTime": {
     "end_time": "2023-12-24T19:13:43.468874Z",
     "start_time": "2023-12-24T19:13:43.427514500Z"
    }
   },
   "outputs": [
    {
     "data": {
      "text/plain": "      Gender        Age    Height      Weight family_history_with_overweight  \\\n1889  Female  20.000000  1.580000   53.000000                            yes   \n1890  Female  37.872971  1.565366   80.000000                            yes   \n1891  Female  17.000000  1.800000   50.000000                             no   \n1892  Female  22.061461  1.600000   82.040318                            yes   \n1893    Male  22.000000  1.740000   75.000000                            yes   \n1894    Male  32.290160  1.754956  120.098812                            yes   \n1895    Male  23.000000  1.718981   81.669950                            yes   \n1896  Female  22.989846  1.650000   80.000000                            yes   \n1897  Female  23.000000  1.628168   84.497980                            yes   \n1898    Male  20.000000  1.817480   85.000000                            yes   \n\n     FAVC      FCVC       NCP        CAEC SMOKE      CH2O SCC       FAF  \\\n1889  yes  2.000000  4.000000  Frequently    no  2.000000  no  1.000000   \n1890  yes  2.002564  1.974233   Sometimes    no  1.935398  no  1.649299   \n1891  yes  3.000000  4.000000  Frequently    no  1.000000  no  2.000000   \n1892  yes  1.362441  2.570380   Sometimes    no  2.166228  no  2.232851   \n1893  yes  3.000000  3.000000  Frequently    no  1.000000  no  1.000000   \n1894  yes  2.967300  3.000000   Sometimes    no  2.530035  no  0.955317   \n1895  yes  2.000000  1.729553   Sometimes    no  1.400247  no  0.887923   \n1896  yes  2.000000  3.000000   Sometimes    no  2.000000  no  0.146919   \n1897  yes  2.058687  2.962004   Sometimes    no  2.010596  no  0.851059   \n1898  yes  2.951180  3.000000   Sometimes    no  3.000000  no  2.433918   \n\n           TUE       CALC                 MTRANS           NObeyesdad  \n1889  1.000000         no  Public_Transportation        Normal_Weight  \n1890  0.000000  Sometimes             Automobile       Obesity_Type_I  \n1891  1.000000  Sometimes  Public_Transportation  Insufficient_Weight  \n1892  1.281141         no  Public_Transportation       Obesity_Type_I  \n1893  0.000000         no             Automobile        Normal_Weight  \n1894  1.339232  Sometimes             Automobile      Obesity_Type_II  \n1895  1.011983  Sometimes  Public_Transportation  Overweight_Level_II  \n1896  2.000000         no  Public_Transportation  Overweight_Level_II  \n1897  0.630866         no  Public_Transportation       Obesity_Type_I  \n1898  0.561602  Sometimes  Public_Transportation   Overweight_Level_I  ",
      "text/html": "<div>\n<style scoped>\n    .dataframe tbody tr th:only-of-type {\n        vertical-align: middle;\n    }\n\n    .dataframe tbody tr th {\n        vertical-align: top;\n    }\n\n    .dataframe thead th {\n        text-align: right;\n    }\n</style>\n<table border=\"1\" class=\"dataframe\">\n  <thead>\n    <tr style=\"text-align: right;\">\n      <th></th>\n      <th>Gender</th>\n      <th>Age</th>\n      <th>Height</th>\n      <th>Weight</th>\n      <th>family_history_with_overweight</th>\n      <th>FAVC</th>\n      <th>FCVC</th>\n      <th>NCP</th>\n      <th>CAEC</th>\n      <th>SMOKE</th>\n      <th>CH2O</th>\n      <th>SCC</th>\n      <th>FAF</th>\n      <th>TUE</th>\n      <th>CALC</th>\n      <th>MTRANS</th>\n      <th>NObeyesdad</th>\n    </tr>\n  </thead>\n  <tbody>\n    <tr>\n      <th>1889</th>\n      <td>Female</td>\n      <td>20.000000</td>\n      <td>1.580000</td>\n      <td>53.000000</td>\n      <td>yes</td>\n      <td>yes</td>\n      <td>2.000000</td>\n      <td>4.000000</td>\n      <td>Frequently</td>\n      <td>no</td>\n      <td>2.000000</td>\n      <td>no</td>\n      <td>1.000000</td>\n      <td>1.000000</td>\n      <td>no</td>\n      <td>Public_Transportation</td>\n      <td>Normal_Weight</td>\n    </tr>\n    <tr>\n      <th>1890</th>\n      <td>Female</td>\n      <td>37.872971</td>\n      <td>1.565366</td>\n      <td>80.000000</td>\n      <td>yes</td>\n      <td>yes</td>\n      <td>2.002564</td>\n      <td>1.974233</td>\n      <td>Sometimes</td>\n      <td>no</td>\n      <td>1.935398</td>\n      <td>no</td>\n      <td>1.649299</td>\n      <td>0.000000</td>\n      <td>Sometimes</td>\n      <td>Automobile</td>\n      <td>Obesity_Type_I</td>\n    </tr>\n    <tr>\n      <th>1891</th>\n      <td>Female</td>\n      <td>17.000000</td>\n      <td>1.800000</td>\n      <td>50.000000</td>\n      <td>no</td>\n      <td>yes</td>\n      <td>3.000000</td>\n      <td>4.000000</td>\n      <td>Frequently</td>\n      <td>no</td>\n      <td>1.000000</td>\n      <td>no</td>\n      <td>2.000000</td>\n      <td>1.000000</td>\n      <td>Sometimes</td>\n      <td>Public_Transportation</td>\n      <td>Insufficient_Weight</td>\n    </tr>\n    <tr>\n      <th>1892</th>\n      <td>Female</td>\n      <td>22.061461</td>\n      <td>1.600000</td>\n      <td>82.040318</td>\n      <td>yes</td>\n      <td>yes</td>\n      <td>1.362441</td>\n      <td>2.570380</td>\n      <td>Sometimes</td>\n      <td>no</td>\n      <td>2.166228</td>\n      <td>no</td>\n      <td>2.232851</td>\n      <td>1.281141</td>\n      <td>no</td>\n      <td>Public_Transportation</td>\n      <td>Obesity_Type_I</td>\n    </tr>\n    <tr>\n      <th>1893</th>\n      <td>Male</td>\n      <td>22.000000</td>\n      <td>1.740000</td>\n      <td>75.000000</td>\n      <td>yes</td>\n      <td>yes</td>\n      <td>3.000000</td>\n      <td>3.000000</td>\n      <td>Frequently</td>\n      <td>no</td>\n      <td>1.000000</td>\n      <td>no</td>\n      <td>1.000000</td>\n      <td>0.000000</td>\n      <td>no</td>\n      <td>Automobile</td>\n      <td>Normal_Weight</td>\n    </tr>\n    <tr>\n      <th>1894</th>\n      <td>Male</td>\n      <td>32.290160</td>\n      <td>1.754956</td>\n      <td>120.098812</td>\n      <td>yes</td>\n      <td>yes</td>\n      <td>2.967300</td>\n      <td>3.000000</td>\n      <td>Sometimes</td>\n      <td>no</td>\n      <td>2.530035</td>\n      <td>no</td>\n      <td>0.955317</td>\n      <td>1.339232</td>\n      <td>Sometimes</td>\n      <td>Automobile</td>\n      <td>Obesity_Type_II</td>\n    </tr>\n    <tr>\n      <th>1895</th>\n      <td>Male</td>\n      <td>23.000000</td>\n      <td>1.718981</td>\n      <td>81.669950</td>\n      <td>yes</td>\n      <td>yes</td>\n      <td>2.000000</td>\n      <td>1.729553</td>\n      <td>Sometimes</td>\n      <td>no</td>\n      <td>1.400247</td>\n      <td>no</td>\n      <td>0.887923</td>\n      <td>1.011983</td>\n      <td>Sometimes</td>\n      <td>Public_Transportation</td>\n      <td>Overweight_Level_II</td>\n    </tr>\n    <tr>\n      <th>1896</th>\n      <td>Female</td>\n      <td>22.989846</td>\n      <td>1.650000</td>\n      <td>80.000000</td>\n      <td>yes</td>\n      <td>yes</td>\n      <td>2.000000</td>\n      <td>3.000000</td>\n      <td>Sometimes</td>\n      <td>no</td>\n      <td>2.000000</td>\n      <td>no</td>\n      <td>0.146919</td>\n      <td>2.000000</td>\n      <td>no</td>\n      <td>Public_Transportation</td>\n      <td>Overweight_Level_II</td>\n    </tr>\n    <tr>\n      <th>1897</th>\n      <td>Female</td>\n      <td>23.000000</td>\n      <td>1.628168</td>\n      <td>84.497980</td>\n      <td>yes</td>\n      <td>yes</td>\n      <td>2.058687</td>\n      <td>2.962004</td>\n      <td>Sometimes</td>\n      <td>no</td>\n      <td>2.010596</td>\n      <td>no</td>\n      <td>0.851059</td>\n      <td>0.630866</td>\n      <td>no</td>\n      <td>Public_Transportation</td>\n      <td>Obesity_Type_I</td>\n    </tr>\n    <tr>\n      <th>1898</th>\n      <td>Male</td>\n      <td>20.000000</td>\n      <td>1.817480</td>\n      <td>85.000000</td>\n      <td>yes</td>\n      <td>yes</td>\n      <td>2.951180</td>\n      <td>3.000000</td>\n      <td>Sometimes</td>\n      <td>no</td>\n      <td>3.000000</td>\n      <td>no</td>\n      <td>2.433918</td>\n      <td>0.561602</td>\n      <td>Sometimes</td>\n      <td>Public_Transportation</td>\n      <td>Overweight_Level_I</td>\n    </tr>\n  </tbody>\n</table>\n</div>"
     },
     "execution_count": 69,
     "metadata": {},
     "output_type": "execute_result"
    }
   ],
   "source": [
    "import pandas as pd\n",
    "from sklearn.preprocessing import LabelEncoder\n",
    "\n",
    "df = pd.read_csv(r'data/train.csv')\n",
    "\n",
    "df.tail(10)"
   ]
  },
  {
   "cell_type": "code",
   "execution_count": 70,
   "outputs": [
    {
     "name": "stdout",
     "output_type": "stream",
     "text": [
      "Gender mapping: {'Female': 0, 'Male': 1}\n",
      "family_history_with_overweight mapping: {'no': 0, 'yes': 1}\n",
      "FAVC mapping: {'no': 0, 'yes': 1}\n",
      "CAEC mapping: {'Always': 0, 'Frequently': 1, 'Sometimes': 2, 'no': 3}\n",
      "SMOKE mapping: {'no': 0, 'yes': 1}\n",
      "SCC mapping: {'no': 0, 'yes': 1}\n",
      "CALC mapping: {'Always': 0, 'Frequently': 1, 'Sometimes': 2, 'no': 3}\n",
      "MTRANS mapping: {'Automobile': 0, 'Bike': 1, 'Motorbike': 2, 'Public_Transportation': 3, 'Walking': 4}\n",
      "NObeyesdad mapping: {'Insufficient_Weight': 0, 'Normal_Weight': 1, 'Obesity_Type_I': 2, 'Obesity_Type_II': 3, 'Obesity_Type_III': 4, 'Overweight_Level_I': 5, 'Overweight_Level_II': 6}\n"
     ]
    }
   ],
   "source": [
    "# Create a label encoder object\n",
    "le = LabelEncoder()\n",
    "\n",
    "# Get the list of categorical columns\n",
    "categorical_cols = df.select_dtypes(include=['object']).columns\n",
    "\n",
    "# Apply LabelEncoder on each of the categorical columns:\n",
    "for col in categorical_cols:\n",
    "    df[col] = le.fit_transform(df[col])\n",
    "    print(f\"{col} mapping: {dict(zip(le.classes_, le.transform(le.classes_)))}\")"
   ],
   "metadata": {
    "collapsed": false,
    "ExecuteTime": {
     "end_time": "2023-12-24T19:14:56.489641Z",
     "start_time": "2023-12-24T19:14:56.461421100Z"
    }
   },
   "id": "845163ff835b20b"
  },
  {
   "cell_type": "code",
   "execution_count": 73,
   "outputs": [
    {
     "data": {
      "text/plain": "      Gender        Age    Height      Weight  family_history_with_overweight  \\\n0          0  19.376997  1.600264   45.000000                               0   \n1          1  22.088059  1.803132  106.329569                               1   \n2          1  26.844812  1.691510  102.595180                               1   \n3          0  19.758286  1.667404   49.125955                               0   \n4          1  23.170309  1.707557   75.306702                               1   \n...      ...        ...       ...         ...                             ...   \n1894       1  32.290160  1.754956  120.098812                               1   \n1895       1  23.000000  1.718981   81.669950                               1   \n1896       0  22.989846  1.650000   80.000000                               1   \n1897       0  23.000000  1.628168   84.497980                               1   \n1898       1  20.000000  1.817480   85.000000                               1   \n\n      FAVC      FCVC       NCP  CAEC  SMOKE      CH2O  SCC       FAF  \\\n0        0  3.000000  3.000000     1      0  2.949419    1  1.295697   \n1        1  2.348745  3.000000     2      0  2.096751    0  0.544564   \n2        1  2.680375  1.089048     2      0  1.366238    0  0.181324   \n3        0  2.880792  3.281391     2      0  1.960131    0  1.513029   \n4        1  2.303367  3.042774     2      0  1.277636    0  0.944982   \n...    ...       ...       ...   ...    ...       ...  ...       ...   \n1894     1  2.967300  3.000000     2      0  2.530035    0  0.955317   \n1895     1  2.000000  1.729553     2      0  1.400247    0  0.887923   \n1896     1  2.000000  3.000000     2      0  2.000000    0  0.146919   \n1897     1  2.058687  2.962004     2      0  2.010596    0  0.851059   \n1898     1  2.951180  3.000000     2      0  3.000000    0  2.433918   \n\n           TUE  CALC  MTRANS  NObeyesdad  \n0     0.000000     2       3           0  \n1     0.676880     2       3           2  \n2     1.041677     3       3           3  \n3     1.000000     2       3           0  \n4     0.366126     2       3           5  \n...        ...   ...     ...         ...  \n1894  1.339232     2       0           3  \n1895  1.011983     2       3           6  \n1896  2.000000     3       3           6  \n1897  0.630866     3       3           2  \n1898  0.561602     2       3           5  \n\n[1899 rows x 17 columns]",
      "text/html": "<div>\n<style scoped>\n    .dataframe tbody tr th:only-of-type {\n        vertical-align: middle;\n    }\n\n    .dataframe tbody tr th {\n        vertical-align: top;\n    }\n\n    .dataframe thead th {\n        text-align: right;\n    }\n</style>\n<table border=\"1\" class=\"dataframe\">\n  <thead>\n    <tr style=\"text-align: right;\">\n      <th></th>\n      <th>Gender</th>\n      <th>Age</th>\n      <th>Height</th>\n      <th>Weight</th>\n      <th>family_history_with_overweight</th>\n      <th>FAVC</th>\n      <th>FCVC</th>\n      <th>NCP</th>\n      <th>CAEC</th>\n      <th>SMOKE</th>\n      <th>CH2O</th>\n      <th>SCC</th>\n      <th>FAF</th>\n      <th>TUE</th>\n      <th>CALC</th>\n      <th>MTRANS</th>\n      <th>NObeyesdad</th>\n    </tr>\n  </thead>\n  <tbody>\n    <tr>\n      <th>0</th>\n      <td>0</td>\n      <td>19.376997</td>\n      <td>1.600264</td>\n      <td>45.000000</td>\n      <td>0</td>\n      <td>0</td>\n      <td>3.000000</td>\n      <td>3.000000</td>\n      <td>1</td>\n      <td>0</td>\n      <td>2.949419</td>\n      <td>1</td>\n      <td>1.295697</td>\n      <td>0.000000</td>\n      <td>2</td>\n      <td>3</td>\n      <td>0</td>\n    </tr>\n    <tr>\n      <th>1</th>\n      <td>1</td>\n      <td>22.088059</td>\n      <td>1.803132</td>\n      <td>106.329569</td>\n      <td>1</td>\n      <td>1</td>\n      <td>2.348745</td>\n      <td>3.000000</td>\n      <td>2</td>\n      <td>0</td>\n      <td>2.096751</td>\n      <td>0</td>\n      <td>0.544564</td>\n      <td>0.676880</td>\n      <td>2</td>\n      <td>3</td>\n      <td>2</td>\n    </tr>\n    <tr>\n      <th>2</th>\n      <td>1</td>\n      <td>26.844812</td>\n      <td>1.691510</td>\n      <td>102.595180</td>\n      <td>1</td>\n      <td>1</td>\n      <td>2.680375</td>\n      <td>1.089048</td>\n      <td>2</td>\n      <td>0</td>\n      <td>1.366238</td>\n      <td>0</td>\n      <td>0.181324</td>\n      <td>1.041677</td>\n      <td>3</td>\n      <td>3</td>\n      <td>3</td>\n    </tr>\n    <tr>\n      <th>3</th>\n      <td>0</td>\n      <td>19.758286</td>\n      <td>1.667404</td>\n      <td>49.125955</td>\n      <td>0</td>\n      <td>0</td>\n      <td>2.880792</td>\n      <td>3.281391</td>\n      <td>2</td>\n      <td>0</td>\n      <td>1.960131</td>\n      <td>0</td>\n      <td>1.513029</td>\n      <td>1.000000</td>\n      <td>2</td>\n      <td>3</td>\n      <td>0</td>\n    </tr>\n    <tr>\n      <th>4</th>\n      <td>1</td>\n      <td>23.170309</td>\n      <td>1.707557</td>\n      <td>75.306702</td>\n      <td>1</td>\n      <td>1</td>\n      <td>2.303367</td>\n      <td>3.042774</td>\n      <td>2</td>\n      <td>0</td>\n      <td>1.277636</td>\n      <td>0</td>\n      <td>0.944982</td>\n      <td>0.366126</td>\n      <td>2</td>\n      <td>3</td>\n      <td>5</td>\n    </tr>\n    <tr>\n      <th>...</th>\n      <td>...</td>\n      <td>...</td>\n      <td>...</td>\n      <td>...</td>\n      <td>...</td>\n      <td>...</td>\n      <td>...</td>\n      <td>...</td>\n      <td>...</td>\n      <td>...</td>\n      <td>...</td>\n      <td>...</td>\n      <td>...</td>\n      <td>...</td>\n      <td>...</td>\n      <td>...</td>\n      <td>...</td>\n    </tr>\n    <tr>\n      <th>1894</th>\n      <td>1</td>\n      <td>32.290160</td>\n      <td>1.754956</td>\n      <td>120.098812</td>\n      <td>1</td>\n      <td>1</td>\n      <td>2.967300</td>\n      <td>3.000000</td>\n      <td>2</td>\n      <td>0</td>\n      <td>2.530035</td>\n      <td>0</td>\n      <td>0.955317</td>\n      <td>1.339232</td>\n      <td>2</td>\n      <td>0</td>\n      <td>3</td>\n    </tr>\n    <tr>\n      <th>1895</th>\n      <td>1</td>\n      <td>23.000000</td>\n      <td>1.718981</td>\n      <td>81.669950</td>\n      <td>1</td>\n      <td>1</td>\n      <td>2.000000</td>\n      <td>1.729553</td>\n      <td>2</td>\n      <td>0</td>\n      <td>1.400247</td>\n      <td>0</td>\n      <td>0.887923</td>\n      <td>1.011983</td>\n      <td>2</td>\n      <td>3</td>\n      <td>6</td>\n    </tr>\n    <tr>\n      <th>1896</th>\n      <td>0</td>\n      <td>22.989846</td>\n      <td>1.650000</td>\n      <td>80.000000</td>\n      <td>1</td>\n      <td>1</td>\n      <td>2.000000</td>\n      <td>3.000000</td>\n      <td>2</td>\n      <td>0</td>\n      <td>2.000000</td>\n      <td>0</td>\n      <td>0.146919</td>\n      <td>2.000000</td>\n      <td>3</td>\n      <td>3</td>\n      <td>6</td>\n    </tr>\n    <tr>\n      <th>1897</th>\n      <td>0</td>\n      <td>23.000000</td>\n      <td>1.628168</td>\n      <td>84.497980</td>\n      <td>1</td>\n      <td>1</td>\n      <td>2.058687</td>\n      <td>2.962004</td>\n      <td>2</td>\n      <td>0</td>\n      <td>2.010596</td>\n      <td>0</td>\n      <td>0.851059</td>\n      <td>0.630866</td>\n      <td>3</td>\n      <td>3</td>\n      <td>2</td>\n    </tr>\n    <tr>\n      <th>1898</th>\n      <td>1</td>\n      <td>20.000000</td>\n      <td>1.817480</td>\n      <td>85.000000</td>\n      <td>1</td>\n      <td>1</td>\n      <td>2.951180</td>\n      <td>3.000000</td>\n      <td>2</td>\n      <td>0</td>\n      <td>3.000000</td>\n      <td>0</td>\n      <td>2.433918</td>\n      <td>0.561602</td>\n      <td>2</td>\n      <td>3</td>\n      <td>5</td>\n    </tr>\n  </tbody>\n</table>\n<p>1899 rows × 17 columns</p>\n</div>"
     },
     "execution_count": 73,
     "metadata": {},
     "output_type": "execute_result"
    }
   ],
   "source": [
    "df"
   ],
   "metadata": {
    "collapsed": false,
    "ExecuteTime": {
     "end_time": "2023-12-24T19:15:27.025969600Z",
     "start_time": "2023-12-24T19:15:26.969495200Z"
    }
   },
   "id": "9fb344137c898d51"
  },
  {
   "cell_type": "code",
   "execution_count": 74,
   "outputs": [
    {
     "data": {
      "text/plain": "NObeyesdad\n2    313\n4    294\n6    269\n5    268\n3    262\n1    252\n0    241\nName: count, dtype: int64"
     },
     "execution_count": 74,
     "metadata": {},
     "output_type": "execute_result"
    }
   ],
   "source": [
    "df['NObeyesdad'].value_counts()"
   ],
   "metadata": {
    "collapsed": false,
    "ExecuteTime": {
     "end_time": "2023-12-24T19:15:30.133945800Z",
     "start_time": "2023-12-24T19:15:30.109399900Z"
    }
   },
   "id": "578f3056071d9775"
  },
  {
   "cell_type": "code",
   "execution_count": 75,
   "outputs": [
    {
     "data": {
      "text/plain": "<Figure size 640x480 with 1 Axes>",
      "image/png": "[encoded data removed]"
     },
     "metadata": {},
     "output_type": "display_data"
    }
   ],
   "source": [
    "import seaborn as sns\n",
    "import matplotlib.pyplot as plt\n",
    "\n",
    "# Assuming 'df' is your DataFrame and 'target' is your target variable\n",
    "sns.histplot(df, x='NObeyesdad')\n",
    "plt.title('Distribution of Target Variable')\n",
    "plt.xlabel('Target Variable')\n",
    "plt.ylabel('Frequency')\n",
    "plt.show()"
   ],
   "metadata": {
    "collapsed": false,
    "ExecuteTime": {
     "end_time": "2023-12-24T19:15:41.281074600Z",
     "start_time": "2023-12-24T19:15:40.926670600Z"
    }
   },
   "id": "923261f8da64a06c"
  },
  {
   "cell_type": "code",
   "execution_count": null,
   "outputs": [],
   "source": [
    "from keras.models import Sequential\n",
    "from keras.layers import Dense\n",
    "from keras.utils import to_categorical\n",
    "from sklearn.model_selection import train_test_split, GridSearchCV\n",
    "from keras.optimizers import Adam\n",
    "from scikeras.wrappers import KerasClassifier\n",
    "\n",
    "# Assuming 'df' is your DataFrame and 'NObeyesdad' is your target variable\n",
    "X = df.drop('NObeyesdad', axis=1)\n",
    "y = to_categorical(df['NObeyesdad'])\n",
    "\n",
    "# Split the data into training and testing sets\n",
    "X_train, X_test, y_train, y_test = train_test_split(X, y, test_size=0.2, random_state=42)\n",
    "\n",
    "# Define a function to create the model\n",
    "def create_model():\n",
    "    model = Sequential()\n",
    "    model.add(Dense(64, input_dim=X_train.shape[1], activation='relu'))  # Input layer\n",
    "    model.add(Dense(64, activation='tanh'))  # Hidden layer\n",
    "    model.add(Dense(y.shape[1], activation='softmax'))  # Output layer\n",
    "    optimizer = Adam(learning_rate=0.0025)\n",
    "    model.compile(loss='categorical_crossentropy', optimizer=optimizer, metrics=['accuracy'])\n",
    "    return model\n",
    "\n",
    "# Create a KerasClassifier with the model\n",
    "model = KerasClassifier(model=create_model, verbose=0)\n",
    "\n",
    "# Define the grid search parameters\n",
    "param_grid = {'batch_size': [10, 20, 40, 60, 80, 100],\n",
    "              'epochs': [50, 100, 150]}\n",
    "\n",
    "# Create GridSearchCV\n",
    "grid = GridSearchCV(estimator=model, param_grid=param_grid, n_jobs=-1, cv=3)\n",
    "grid_result = grid.fit(X_train, y_train)\n",
    "\n",
    "# Print the best parameters and the best accuracy score\n",
    "print(\"Best parameters: \", grid_result.best_params_)\n",
    "print(\"Best accuracy score: \", grid_result.best_score_)"
   ],
   "metadata": {
    "collapsed": false,
    "is_executing": true,
    "ExecuteTime": {
     "start_time": "2023-12-24T19:16:23.583191100Z"
    }
   },
   "id": "f7e3e85e6990c156"
  },
  {
   "cell_type": "code",
   "execution_count": null,
   "outputs": [],
   "source": [],
   "metadata": {
    "collapsed": false
   },
   "id": "9433aef90c7dba04"
  }
 ],
 "metadata": {
  "kernelspec": {
   "display_name": "Python 3",
   "language": "python",
   "name": "python3"
  },
  "language_info": {
   "codemirror_mode": {
    "name": "ipython",
    "version": 2
   },
   "file_extension": ".py",
   "mimetype": "text/x-python",
   "name": "python",
   "nbconvert_exporter": "python",
   "pygments_lexer": "ipython2",
   "version": "2.7.6"
  }
 },
 "nbformat": 4,
 "nbformat_minor": 5
}
