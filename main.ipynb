{
 "cells": [
  {
   "cell_type": "code",
   "execution_count": 38,
   "outputs": [],
   "source": [
    "import pandas as pd\n",
    "from sklearn.preprocessing import LabelEncoder\n",
    "from sklearn.model_selection import train_test_split\n",
    "from sklearn.model_selection import GridSearchCV\n",
    "from sklearn.tree import DecisionTreeClassifier\n",
    "from sklearn.ensemble import RandomForestClassifier\n",
    "from sklearn.svm import SVC\n",
    "from sklearn.neighbors import KNeighborsClassifier\n",
    "from sklearn.neural_network import MLPClassifier\n",
    "from sklearn.linear_model import LogisticRegression\n",
    "from xgboost import XGBClassifier\n",
    "from sklearn.metrics import accuracy_score, recall_score, f1_score, precision_score, confusion_matrix, roc_auc_score\n",
    "import seaborn as sns\n",
    "import matplotlib.pyplot as plt\n",
    "import warnings\n",
    "warnings.filterwarnings(\"ignore\")"
   ],
   "metadata": {
    "collapsed": false,
    "ExecuteTime": {
     "end_time": "2023-12-24T23:03:17.595326800Z",
     "start_time": "2023-12-24T23:03:17.545588900Z"
    }
   },
   "id": "90dd1f652c731638"
  },
  {
   "cell_type": "code",
   "execution_count": 2,
   "outputs": [
    {
     "data": {
      "text/plain": "   Gender        Age    Height      Weight family_history_with_overweight  \\\n0  Female  19.376997  1.600264   45.000000                             no   \n1    Male  22.088059  1.803132  106.329569                            yes   \n2    Male  26.844812  1.691510  102.595180                            yes   \n3  Female  19.758286  1.667404   49.125955                             no   \n4    Male  23.170309  1.707557   75.306702                            yes   \n5    Male  25.314589  1.787802  115.127662                            yes   \n6    Male  24.582200  1.769933  117.708705                            yes   \n7    Male  20.000000  1.800000  114.000000                            yes   \n8  Female  26.000000  1.633887  111.878132                            yes   \n9  Female  20.000000  1.625236   74.433362                            yes   \n\n  FAVC      FCVC       NCP        CAEC SMOKE      CH2O  SCC       FAF  \\\n0   no  3.000000  3.000000  Frequently    no  2.949419  yes  1.295697   \n1  yes  2.348745  3.000000   Sometimes    no  2.096751   no  0.544564   \n2  yes  2.680375  1.089048   Sometimes    no  1.366238   no  0.181324   \n3   no  2.880792  3.281391   Sometimes    no  1.960131   no  1.513029   \n4  yes  2.303367  3.042774   Sometimes    no  1.277636   no  0.944982   \n5  yes  1.588114  3.000000   Sometimes    no  2.115967   no  1.541072   \n6  yes  1.475906  2.999346   Sometimes    no  2.019430   no  1.046878   \n7  yes  2.000000  3.000000  Frequently    no  2.000000   no  0.000000   \n8  yes  3.000000  3.000000   Sometimes    no  2.621976   no  0.000000   \n9   no  2.522399  1.032887   Sometimes    no  2.397653   no  2.358699   \n\n        TUE       CALC                 MTRANS           NObeyesdad  \n0  0.000000  Sometimes  Public_Transportation  Insufficient_Weight  \n1  0.676880  Sometimes  Public_Transportation       Obesity_Type_I  \n2  1.041677         no  Public_Transportation      Obesity_Type_II  \n3  1.000000  Sometimes  Public_Transportation  Insufficient_Weight  \n4  0.366126  Sometimes  Public_Transportation   Overweight_Level_I  \n5  0.000000         no             Automobile      Obesity_Type_II  \n6  0.460866  Sometimes  Public_Transportation      Obesity_Type_II  \n7  1.000000         no  Public_Transportation      Obesity_Type_II  \n8  0.123861  Sometimes  Public_Transportation     Obesity_Type_III  \n9  0.440087  Sometimes  Public_Transportation  Overweight_Level_II  ",
      "text/html": "<div>\n<style scoped>\n    .dataframe tbody tr th:only-of-type {\n        vertical-align: middle;\n    }\n\n    .dataframe tbody tr th {\n        vertical-align: top;\n    }\n\n    .dataframe thead th {\n        text-align: right;\n    }\n</style>\n<table border=\"1\" class=\"dataframe\">\n  <thead>\n    <tr style=\"text-align: right;\">\n      <th></th>\n      <th>Gender</th>\n      <th>Age</th>\n      <th>Height</th>\n      <th>Weight</th>\n      <th>family_history_with_overweight</th>\n      <th>FAVC</th>\n      <th>FCVC</th>\n      <th>NCP</th>\n      <th>CAEC</th>\n      <th>SMOKE</th>\n      <th>CH2O</th>\n      <th>SCC</th>\n      <th>FAF</th>\n      <th>TUE</th>\n      <th>CALC</th>\n      <th>MTRANS</th>\n      <th>NObeyesdad</th>\n    </tr>\n  </thead>\n  <tbody>\n    <tr>\n      <th>0</th>\n      <td>Female</td>\n      <td>19.376997</td>\n      <td>1.600264</td>\n      <td>45.000000</td>\n      <td>no</td>\n      <td>no</td>\n      <td>3.000000</td>\n      <td>3.000000</td>\n      <td>Frequently</td>\n      <td>no</td>\n      <td>2.949419</td>\n      <td>yes</td>\n      <td>1.295697</td>\n      <td>0.000000</td>\n      <td>Sometimes</td>\n      <td>Public_Transportation</td>\n      <td>Insufficient_Weight</td>\n    </tr>\n    <tr>\n      <th>1</th>\n      <td>Male</td>\n      <td>22.088059</td>\n      <td>1.803132</td>\n      <td>106.329569</td>\n      <td>yes</td>\n      <td>yes</td>\n      <td>2.348745</td>\n      <td>3.000000</td>\n      <td>Sometimes</td>\n      <td>no</td>\n      <td>2.096751</td>\n      <td>no</td>\n      <td>0.544564</td>\n      <td>0.676880</td>\n      <td>Sometimes</td>\n      <td>Public_Transportation</td>\n      <td>Obesity_Type_I</td>\n    </tr>\n    <tr>\n      <th>2</th>\n      <td>Male</td>\n      <td>26.844812</td>\n      <td>1.691510</td>\n      <td>102.595180</td>\n      <td>yes</td>\n      <td>yes</td>\n      <td>2.680375</td>\n      <td>1.089048</td>\n      <td>Sometimes</td>\n      <td>no</td>\n      <td>1.366238</td>\n      <td>no</td>\n      <td>0.181324</td>\n      <td>1.041677</td>\n      <td>no</td>\n      <td>Public_Transportation</td>\n      <td>Obesity_Type_II</td>\n    </tr>\n    <tr>\n      <th>3</th>\n      <td>Female</td>\n      <td>19.758286</td>\n      <td>1.667404</td>\n      <td>49.125955</td>\n      <td>no</td>\n      <td>no</td>\n      <td>2.880792</td>\n      <td>3.281391</td>\n      <td>Sometimes</td>\n      <td>no</td>\n      <td>1.960131</td>\n      <td>no</td>\n      <td>1.513029</td>\n      <td>1.000000</td>\n      <td>Sometimes</td>\n      <td>Public_Transportation</td>\n      <td>Insufficient_Weight</td>\n    </tr>\n    <tr>\n      <th>4</th>\n      <td>Male</td>\n      <td>23.170309</td>\n      <td>1.707557</td>\n      <td>75.306702</td>\n      <td>yes</td>\n      <td>yes</td>\n      <td>2.303367</td>\n      <td>3.042774</td>\n      <td>Sometimes</td>\n      <td>no</td>\n      <td>1.277636</td>\n      <td>no</td>\n      <td>0.944982</td>\n      <td>0.366126</td>\n      <td>Sometimes</td>\n      <td>Public_Transportation</td>\n      <td>Overweight_Level_I</td>\n    </tr>\n    <tr>\n      <th>5</th>\n      <td>Male</td>\n      <td>25.314589</td>\n      <td>1.787802</td>\n      <td>115.127662</td>\n      <td>yes</td>\n      <td>yes</td>\n      <td>1.588114</td>\n      <td>3.000000</td>\n      <td>Sometimes</td>\n      <td>no</td>\n      <td>2.115967</td>\n      <td>no</td>\n      <td>1.541072</td>\n      <td>0.000000</td>\n      <td>no</td>\n      <td>Automobile</td>\n      <td>Obesity_Type_II</td>\n    </tr>\n    <tr>\n      <th>6</th>\n      <td>Male</td>\n      <td>24.582200</td>\n      <td>1.769933</td>\n      <td>117.708705</td>\n      <td>yes</td>\n      <td>yes</td>\n      <td>1.475906</td>\n      <td>2.999346</td>\n      <td>Sometimes</td>\n      <td>no</td>\n      <td>2.019430</td>\n      <td>no</td>\n      <td>1.046878</td>\n      <td>0.460866</td>\n      <td>Sometimes</td>\n      <td>Public_Transportation</td>\n      <td>Obesity_Type_II</td>\n    </tr>\n    <tr>\n      <th>7</th>\n      <td>Male</td>\n      <td>20.000000</td>\n      <td>1.800000</td>\n      <td>114.000000</td>\n      <td>yes</td>\n      <td>yes</td>\n      <td>2.000000</td>\n      <td>3.000000</td>\n      <td>Frequently</td>\n      <td>no</td>\n      <td>2.000000</td>\n      <td>no</td>\n      <td>0.000000</td>\n      <td>1.000000</td>\n      <td>no</td>\n      <td>Public_Transportation</td>\n      <td>Obesity_Type_II</td>\n    </tr>\n    <tr>\n      <th>8</th>\n      <td>Female</td>\n      <td>26.000000</td>\n      <td>1.633887</td>\n      <td>111.878132</td>\n      <td>yes</td>\n      <td>yes</td>\n      <td>3.000000</td>\n      <td>3.000000</td>\n      <td>Sometimes</td>\n      <td>no</td>\n      <td>2.621976</td>\n      <td>no</td>\n      <td>0.000000</td>\n      <td>0.123861</td>\n      <td>Sometimes</td>\n      <td>Public_Transportation</td>\n      <td>Obesity_Type_III</td>\n    </tr>\n    <tr>\n      <th>9</th>\n      <td>Female</td>\n      <td>20.000000</td>\n      <td>1.625236</td>\n      <td>74.433362</td>\n      <td>yes</td>\n      <td>no</td>\n      <td>2.522399</td>\n      <td>1.032887</td>\n      <td>Sometimes</td>\n      <td>no</td>\n      <td>2.397653</td>\n      <td>no</td>\n      <td>2.358699</td>\n      <td>0.440087</td>\n      <td>Sometimes</td>\n      <td>Public_Transportation</td>\n      <td>Overweight_Level_II</td>\n    </tr>\n  </tbody>\n</table>\n</div>"
     },
     "execution_count": 2,
     "metadata": {},
     "output_type": "execute_result"
    }
   ],
   "source": [
    "df = pd.read_csv(r'data/train.csv')\n",
    "df.head(10)"
   ],
   "metadata": {
    "collapsed": true,
    "ExecuteTime": {
     "end_time": "2023-12-24T21:15:35.944761900Z",
     "start_time": "2023-12-24T21:15:35.759514300Z"
    }
   },
   "id": "initial_id"
  },
  {
   "cell_type": "code",
   "execution_count": 3,
   "outputs": [
    {
     "name": "stdout",
     "output_type": "stream",
     "text": [
      "Gender mapping: {'Female': 0, 'Male': 1}\n",
      "family_history_with_overweight mapping: {'no': 0, 'yes': 1}\n",
      "FAVC mapping: {'no': 0, 'yes': 1}\n",
      "CAEC mapping: {'Always': 0, 'Frequently': 1, 'Sometimes': 2, 'no': 3}\n",
      "SMOKE mapping: {'no': 0, 'yes': 1}\n",
      "SCC mapping: {'no': 0, 'yes': 1}\n",
      "CALC mapping: {'Always': 0, 'Frequently': 1, 'Sometimes': 2, 'no': 3}\n",
      "MTRANS mapping: {'Automobile': 0, 'Bike': 1, 'Motorbike': 2, 'Public_Transportation': 3, 'Walking': 4}\n",
      "NObeyesdad mapping: {'Insufficient_Weight': 0, 'Normal_Weight': 1, 'Obesity_Type_I': 2, 'Obesity_Type_II': 3, 'Obesity_Type_III': 4, 'Overweight_Level_I': 5, 'Overweight_Level_II': 6}\n"
     ]
    }
   ],
   "source": [
    "# Create a label encoder object\n",
    "le = LabelEncoder()\n",
    "\n",
    "# Get the list of categorical columns\n",
    "categorical_cols = df.select_dtypes(include=['object']).columns\n",
    "\n",
    "# Apply LabelEncoder on each of the categorical columns:\n",
    "for col in categorical_cols:\n",
    "    df[col] = le.fit_transform(df[col])\n",
    "    print(f\"{col} mapping: {dict(zip(le.classes_, le.transform(le.classes_)))}\")"
   ],
   "metadata": {
    "collapsed": false,
    "ExecuteTime": {
     "end_time": "2023-12-24T21:15:37.901563500Z",
     "start_time": "2023-12-24T21:15:37.675821400Z"
    }
   },
   "id": "845163ff835b20b"
  },
  {
   "cell_type": "code",
   "execution_count": 4,
   "outputs": [
    {
     "data": {
      "text/plain": "      Gender        Age    Height      Weight  family_history_with_overweight  \\\n0          0  19.376997  1.600264   45.000000                               0   \n1          1  22.088059  1.803132  106.329569                               1   \n2          1  26.844812  1.691510  102.595180                               1   \n3          0  19.758286  1.667404   49.125955                               0   \n4          1  23.170309  1.707557   75.306702                               1   \n...      ...        ...       ...         ...                             ...   \n1894       1  32.290160  1.754956  120.098812                               1   \n1895       1  23.000000  1.718981   81.669950                               1   \n1896       0  22.989846  1.650000   80.000000                               1   \n1897       0  23.000000  1.628168   84.497980                               1   \n1898       1  20.000000  1.817480   85.000000                               1   \n\n      FAVC      FCVC       NCP  CAEC  SMOKE      CH2O  SCC       FAF  \\\n0        0  3.000000  3.000000     1      0  2.949419    1  1.295697   \n1        1  2.348745  3.000000     2      0  2.096751    0  0.544564   \n2        1  2.680375  1.089048     2      0  1.366238    0  0.181324   \n3        0  2.880792  3.281391     2      0  1.960131    0  1.513029   \n4        1  2.303367  3.042774     2      0  1.277636    0  0.944982   \n...    ...       ...       ...   ...    ...       ...  ...       ...   \n1894     1  2.967300  3.000000     2      0  2.530035    0  0.955317   \n1895     1  2.000000  1.729553     2      0  1.400247    0  0.887923   \n1896     1  2.000000  3.000000     2      0  2.000000    0  0.146919   \n1897     1  2.058687  2.962004     2      0  2.010596    0  0.851059   \n1898     1  2.951180  3.000000     2      0  3.000000    0  2.433918   \n\n           TUE  CALC  MTRANS  NObeyesdad  \n0     0.000000     2       3           0  \n1     0.676880     2       3           2  \n2     1.041677     3       3           3  \n3     1.000000     2       3           0  \n4     0.366126     2       3           5  \n...        ...   ...     ...         ...  \n1894  1.339232     2       0           3  \n1895  1.011983     2       3           6  \n1896  2.000000     3       3           6  \n1897  0.630866     3       3           2  \n1898  0.561602     2       3           5  \n\n[1899 rows x 17 columns]",
      "text/html": "<div>\n<style scoped>\n    .dataframe tbody tr th:only-of-type {\n        vertical-align: middle;\n    }\n\n    .dataframe tbody tr th {\n        vertical-align: top;\n    }\n\n    .dataframe thead th {\n        text-align: right;\n    }\n</style>\n<table border=\"1\" class=\"dataframe\">\n  <thead>\n    <tr style=\"text-align: right;\">\n      <th></th>\n      <th>Gender</th>\n      <th>Age</th>\n      <th>Height</th>\n      <th>Weight</th>\n      <th>family_history_with_overweight</th>\n      <th>FAVC</th>\n      <th>FCVC</th>\n      <th>NCP</th>\n      <th>CAEC</th>\n      <th>SMOKE</th>\n      <th>CH2O</th>\n      <th>SCC</th>\n      <th>FAF</th>\n      <th>TUE</th>\n      <th>CALC</th>\n      <th>MTRANS</th>\n      <th>NObeyesdad</th>\n    </tr>\n  </thead>\n  <tbody>\n    <tr>\n      <th>0</th>\n      <td>0</td>\n      <td>19.376997</td>\n      <td>1.600264</td>\n      <td>45.000000</td>\n      <td>0</td>\n      <td>0</td>\n      <td>3.000000</td>\n      <td>3.000000</td>\n      <td>1</td>\n      <td>0</td>\n      <td>2.949419</td>\n      <td>1</td>\n      <td>1.295697</td>\n      <td>0.000000</td>\n      <td>2</td>\n      <td>3</td>\n      <td>0</td>\n    </tr>\n    <tr>\n      <th>1</th>\n      <td>1</td>\n      <td>22.088059</td>\n      <td>1.803132</td>\n      <td>106.329569</td>\n      <td>1</td>\n      <td>1</td>\n      <td>2.348745</td>\n      <td>3.000000</td>\n      <td>2</td>\n      <td>0</td>\n      <td>2.096751</td>\n      <td>0</td>\n      <td>0.544564</td>\n      <td>0.676880</td>\n      <td>2</td>\n      <td>3</td>\n      <td>2</td>\n    </tr>\n    <tr>\n      <th>2</th>\n      <td>1</td>\n      <td>26.844812</td>\n      <td>1.691510</td>\n      <td>102.595180</td>\n      <td>1</td>\n      <td>1</td>\n      <td>2.680375</td>\n      <td>1.089048</td>\n      <td>2</td>\n      <td>0</td>\n      <td>1.366238</td>\n      <td>0</td>\n      <td>0.181324</td>\n      <td>1.041677</td>\n      <td>3</td>\n      <td>3</td>\n      <td>3</td>\n    </tr>\n    <tr>\n      <th>3</th>\n      <td>0</td>\n      <td>19.758286</td>\n      <td>1.667404</td>\n      <td>49.125955</td>\n      <td>0</td>\n      <td>0</td>\n      <td>2.880792</td>\n      <td>3.281391</td>\n      <td>2</td>\n      <td>0</td>\n      <td>1.960131</td>\n      <td>0</td>\n      <td>1.513029</td>\n      <td>1.000000</td>\n      <td>2</td>\n      <td>3</td>\n      <td>0</td>\n    </tr>\n    <tr>\n      <th>4</th>\n      <td>1</td>\n      <td>23.170309</td>\n      <td>1.707557</td>\n      <td>75.306702</td>\n      <td>1</td>\n      <td>1</td>\n      <td>2.303367</td>\n      <td>3.042774</td>\n      <td>2</td>\n      <td>0</td>\n      <td>1.277636</td>\n      <td>0</td>\n      <td>0.944982</td>\n      <td>0.366126</td>\n      <td>2</td>\n      <td>3</td>\n      <td>5</td>\n    </tr>\n    <tr>\n      <th>...</th>\n      <td>...</td>\n      <td>...</td>\n      <td>...</td>\n      <td>...</td>\n      <td>...</td>\n      <td>...</td>\n      <td>...</td>\n      <td>...</td>\n      <td>...</td>\n      <td>...</td>\n      <td>...</td>\n      <td>...</td>\n      <td>...</td>\n      <td>...</td>\n      <td>...</td>\n      <td>...</td>\n      <td>...</td>\n    </tr>\n    <tr>\n      <th>1894</th>\n      <td>1</td>\n      <td>32.290160</td>\n      <td>1.754956</td>\n      <td>120.098812</td>\n      <td>1</td>\n      <td>1</td>\n      <td>2.967300</td>\n      <td>3.000000</td>\n      <td>2</td>\n      <td>0</td>\n      <td>2.530035</td>\n      <td>0</td>\n      <td>0.955317</td>\n      <td>1.339232</td>\n      <td>2</td>\n      <td>0</td>\n      <td>3</td>\n    </tr>\n    <tr>\n      <th>1895</th>\n      <td>1</td>\n      <td>23.000000</td>\n      <td>1.718981</td>\n      <td>81.669950</td>\n      <td>1</td>\n      <td>1</td>\n      <td>2.000000</td>\n      <td>1.729553</td>\n      <td>2</td>\n      <td>0</td>\n      <td>1.400247</td>\n      <td>0</td>\n      <td>0.887923</td>\n      <td>1.011983</td>\n      <td>2</td>\n      <td>3</td>\n      <td>6</td>\n    </tr>\n    <tr>\n      <th>1896</th>\n      <td>0</td>\n      <td>22.989846</td>\n      <td>1.650000</td>\n      <td>80.000000</td>\n      <td>1</td>\n      <td>1</td>\n      <td>2.000000</td>\n      <td>3.000000</td>\n      <td>2</td>\n      <td>0</td>\n      <td>2.000000</td>\n      <td>0</td>\n      <td>0.146919</td>\n      <td>2.000000</td>\n      <td>3</td>\n      <td>3</td>\n      <td>6</td>\n    </tr>\n    <tr>\n      <th>1897</th>\n      <td>0</td>\n      <td>23.000000</td>\n      <td>1.628168</td>\n      <td>84.497980</td>\n      <td>1</td>\n      <td>1</td>\n      <td>2.058687</td>\n      <td>2.962004</td>\n      <td>2</td>\n      <td>0</td>\n      <td>2.010596</td>\n      <td>0</td>\n      <td>0.851059</td>\n      <td>0.630866</td>\n      <td>3</td>\n      <td>3</td>\n      <td>2</td>\n    </tr>\n    <tr>\n      <th>1898</th>\n      <td>1</td>\n      <td>20.000000</td>\n      <td>1.817480</td>\n      <td>85.000000</td>\n      <td>1</td>\n      <td>1</td>\n      <td>2.951180</td>\n      <td>3.000000</td>\n      <td>2</td>\n      <td>0</td>\n      <td>3.000000</td>\n      <td>0</td>\n      <td>2.433918</td>\n      <td>0.561602</td>\n      <td>2</td>\n      <td>3</td>\n      <td>5</td>\n    </tr>\n  </tbody>\n</table>\n<p>1899 rows × 17 columns</p>\n</div>"
     },
     "execution_count": 4,
     "metadata": {},
     "output_type": "execute_result"
    }
   ],
   "source": [
    "df"
   ],
   "metadata": {
    "collapsed": false,
    "ExecuteTime": {
     "end_time": "2023-12-24T21:15:39.628201700Z",
     "start_time": "2023-12-24T21:15:39.502219900Z"
    }
   },
   "id": "9fb344137c898d51"
  },
  {
   "cell_type": "code",
   "execution_count": 5,
   "outputs": [
    {
     "data": {
      "text/plain": "NObeyesdad\n2    313\n4    294\n6    269\n5    268\n3    262\n1    252\n0    241\nName: count, dtype: int64"
     },
     "execution_count": 5,
     "metadata": {},
     "output_type": "execute_result"
    }
   ],
   "source": [
    "df['NObeyesdad'].value_counts()"
   ],
   "metadata": {
    "collapsed": false,
    "ExecuteTime": {
     "end_time": "2023-12-24T21:15:41.806011600Z",
     "start_time": "2023-12-24T21:15:41.582442600Z"
    }
   },
   "id": "578f3056071d9775"
  },
  {
   "cell_type": "code",
   "execution_count": 6,
   "outputs": [
    {
     "data": {
      "text/plain": "Gender                            0\nAge                               0\nHeight                            0\nWeight                            0\nfamily_history_with_overweight    0\nFAVC                              0\nFCVC                              0\nNCP                               0\nCAEC                              0\nSMOKE                             0\nCH2O                              0\nSCC                               0\nFAF                               0\nTUE                               0\nCALC                              0\nMTRANS                            0\nNObeyesdad                        0\ndtype: int64"
     },
     "execution_count": 6,
     "metadata": {},
     "output_type": "execute_result"
    }
   ],
   "source": [
    "df.isnull().sum()"
   ],
   "metadata": {
    "collapsed": false,
    "ExecuteTime": {
     "end_time": "2023-12-24T21:15:43.964880400Z",
     "start_time": "2023-12-24T21:15:43.890049500Z"
    }
   },
   "id": "42804f6064aae338"
  },
  {
   "cell_type": "code",
   "execution_count": 7,
   "outputs": [],
   "source": [
    "X = df.drop('NObeyesdad', axis=1)\n",
    "y = df['NObeyesdad']\n",
    "\n",
    "# Split the data into training and testing sets\n",
    "X_train, X_test, y_train, y_test = train_test_split(X, y, test_size=0.2, random_state=42)"
   ],
   "metadata": {
    "collapsed": false,
    "ExecuteTime": {
     "end_time": "2023-12-24T21:15:46.722195Z",
     "start_time": "2023-12-24T21:15:46.529465400Z"
    }
   },
   "id": "2339dfe799fae3a6"
  },
  {
   "cell_type": "code",
   "execution_count": null,
   "outputs": [],
   "source": [
    "# Define the models and parameters\n",
    "classifiers = {\n",
    "    'DecisionTree': (DecisionTreeClassifier(), {'max_depth': [1, 5, 10, 15, 20], 'criterion': ['gini', 'entropy', 'log_loss'], 'splitter': ['best', 'random']}),\n",
    "    'LogisticRegression': (LogisticRegression(max_iter=300), {'C': [0.1, 1, 5, 10]}),\n",
    "    'SVM': (SVC(), {'C': [0.1, 1, 5, 10], 'gamma': [1, 0.1, 0.01], 'kernel': ['rbf', 'poly', 'rbf', 'sigmoid']}),\n",
    "    'KNN': (KNeighborsClassifier(), {'n_neighbors': [3, 5, 7, 9], 'algorithm': ['auto', 'ball_tree', 'kd_tree', 'brute']}),\n",
    "    'RandomForest': (RandomForestClassifier(), {'n_estimators': [50, 100, 200], 'max_depth': [1, 5, 10, 15, 20], 'criterion': ['gini', 'entropy', 'log_loss']}),\n",
    "    'XGBoost': (XGBClassifier(), {'n_estimators': [50, 100, 200], 'learning_rate': [0.01, 0.1, 0.2]}),\n",
    "    'MLPClassifier': (MLPClassifier(alpha=0.01), {'hidden_layer_sizes': [(64,), (128,)], 'solver': ['adam', 'sgd'], 'learning_rate_init': [0.0025, 0.0050], 'max_iter': [100, 150, 200], 'batch_size': [20, 40, 60, 80], 'activation': ['relu', 'tanh']})\n",
    "}\n",
    "\n",
    "# Apply GridSearchCV to each classifier\n",
    "for name, (model, params) in classifiers.items():\n",
    "    gs = GridSearchCV(model, params, cv=5)\n",
    "    gs.fit(X_train, y_train)\n",
    "    print(f\"Best parameters for {name}: {gs.best_params_}\")\n",
    "    print(f\"Best score for {name}: {gs.best_score_}\")\n",
    "    print(f\"Test score for {name}: {gs.score(X_test, y_test)}\")"
   ],
   "metadata": {
    "collapsed": false
   },
   "id": "f7e3e85e6990c156"
  },
  {
   "cell_type": "markdown",
   "source": [
    "## Building and training the model:"
   ],
   "metadata": {
    "collapsed": false
   },
   "id": "5e900e2eb02bfdad"
  },
  {
   "cell_type": "code",
   "execution_count": 24,
   "outputs": [
    {
     "data": {
      "text/plain": "XGBClassifier(base_score=None, booster=None, callbacks=None,\n              colsample_bylevel=None, colsample_bynode=None,\n              colsample_bytree=None, device=None, early_stopping_rounds=None,\n              enable_categorical=False, eval_metric=None, feature_types=None,\n              gamma=None, grow_policy=None, importance_type=None,\n              interaction_constraints=None, learning_rate=0.2, max_bin=None,\n              max_cat_threshold=None, max_cat_to_onehot=None,\n              max_delta_step=None, max_depth=None, max_leaves=None,\n              min_child_weight=None, missing=nan, monotone_constraints=None,\n              multi_strategy=None, n_estimators=50, n_jobs=None,\n              num_parallel_tree=None, objective='multi:softprob', ...)",
      "text/html": "<style>#sk-container-id-5 {color: black;}#sk-container-id-5 pre{padding: 0;}#sk-container-id-5 div.sk-toggleable {background-color: white;}#sk-container-id-5 label.sk-toggleable__label {cursor: pointer;display: block;width: 100%;margin-bottom: 0;padding: 0.3em;box-sizing: border-box;text-align: center;}#sk-container-id-5 label.sk-toggleable__label-arrow:before {content: \"▸\";float: left;margin-right: 0.25em;color: #696969;}#sk-container-id-5 label.sk-toggleable__label-arrow:hover:before {color: black;}#sk-container-id-5 div.sk-estimator:hover label.sk-toggleable__label-arrow:before {color: black;}#sk-container-id-5 div.sk-toggleable__content {max-height: 0;max-width: 0;overflow: hidden;text-align: left;background-color: #f0f8ff;}#sk-container-id-5 div.sk-toggleable__content pre {margin: 0.2em;color: black;border-radius: 0.25em;background-color: #f0f8ff;}#sk-container-id-5 input.sk-toggleable__control:checked~div.sk-toggleable__content {max-height: 200px;max-width: 100%;overflow: auto;}#sk-container-id-5 input.sk-toggleable__control:checked~label.sk-toggleable__label-arrow:before {content: \"▾\";}#sk-container-id-5 div.sk-estimator input.sk-toggleable__control:checked~label.sk-toggleable__label {background-color: #d4ebff;}#sk-container-id-5 div.sk-label input.sk-toggleable__control:checked~label.sk-toggleable__label {background-color: #d4ebff;}#sk-container-id-5 input.sk-hidden--visually {border: 0;clip: rect(1px 1px 1px 1px);clip: rect(1px, 1px, 1px, 1px);height: 1px;margin: -1px;overflow: hidden;padding: 0;position: absolute;width: 1px;}#sk-container-id-5 div.sk-estimator {font-family: monospace;background-color: #f0f8ff;border: 1px dotted black;border-radius: 0.25em;box-sizing: border-box;margin-bottom: 0.5em;}#sk-container-id-5 div.sk-estimator:hover {background-color: #d4ebff;}#sk-container-id-5 div.sk-parallel-item::after {content: \"\";width: 100%;border-bottom: 1px solid gray;flex-grow: 1;}#sk-container-id-5 div.sk-label:hover label.sk-toggleable__label {background-color: #d4ebff;}#sk-container-id-5 div.sk-serial::before {content: \"\";position: absolute;border-left: 1px solid gray;box-sizing: border-box;top: 0;bottom: 0;left: 50%;z-index: 0;}#sk-container-id-5 div.sk-serial {display: flex;flex-direction: column;align-items: center;background-color: white;padding-right: 0.2em;padding-left: 0.2em;position: relative;}#sk-container-id-5 div.sk-item {position: relative;z-index: 1;}#sk-container-id-5 div.sk-parallel {display: flex;align-items: stretch;justify-content: center;background-color: white;position: relative;}#sk-container-id-5 div.sk-item::before, #sk-container-id-5 div.sk-parallel-item::before {content: \"\";position: absolute;border-left: 1px solid gray;box-sizing: border-box;top: 0;bottom: 0;left: 50%;z-index: -1;}#sk-container-id-5 div.sk-parallel-item {display: flex;flex-direction: column;z-index: 1;position: relative;background-color: white;}#sk-container-id-5 div.sk-parallel-item:first-child::after {align-self: flex-end;width: 50%;}#sk-container-id-5 div.sk-parallel-item:last-child::after {align-self: flex-start;width: 50%;}#sk-container-id-5 div.sk-parallel-item:only-child::after {width: 0;}#sk-container-id-5 div.sk-dashed-wrapped {border: 1px dashed gray;margin: 0 0.4em 0.5em 0.4em;box-sizing: border-box;padding-bottom: 0.4em;background-color: white;}#sk-container-id-5 div.sk-label label {font-family: monospace;font-weight: bold;display: inline-block;line-height: 1.2em;}#sk-container-id-5 div.sk-label-container {text-align: center;}#sk-container-id-5 div.sk-container {/* jupyter's `normalize.less` sets `[hidden] { display: none; }` but bootstrap.min.css set `[hidden] { display: none !important; }` so we also need the `!important` here to be able to override the default hidden behavior on the sphinx rendered scikit-learn.org. See: https://github.com/scikit-learn/scikit-learn/issues/21755 */display: inline-block !important;position: relative;}#sk-container-id-5 div.sk-text-repr-fallback {display: none;}</style><div id=\"sk-container-id-5\" class=\"sk-top-container\"><div class=\"sk-text-repr-fallback\"><pre>XGBClassifier(base_score=None, booster=None, callbacks=None,\n              colsample_bylevel=None, colsample_bynode=None,\n              colsample_bytree=None, device=None, early_stopping_rounds=None,\n              enable_categorical=False, eval_metric=None, feature_types=None,\n              gamma=None, grow_policy=None, importance_type=None,\n              interaction_constraints=None, learning_rate=0.2, max_bin=None,\n              max_cat_threshold=None, max_cat_to_onehot=None,\n              max_delta_step=None, max_depth=None, max_leaves=None,\n              min_child_weight=None, missing=nan, monotone_constraints=None,\n              multi_strategy=None, n_estimators=50, n_jobs=None,\n              num_parallel_tree=None, objective=&#x27;multi:softprob&#x27;, ...)</pre><b>In a Jupyter environment, please rerun this cell to show the HTML representation or trust the notebook. <br />On GitHub, the HTML representation is unable to render, please try loading this page with nbviewer.org.</b></div><div class=\"sk-container\" hidden><div class=\"sk-item\"><div class=\"sk-estimator sk-toggleable\"><input class=\"sk-toggleable__control sk-hidden--visually\" id=\"sk-estimator-id-5\" type=\"checkbox\" checked><label for=\"sk-estimator-id-5\" class=\"sk-toggleable__label sk-toggleable__label-arrow\">XGBClassifier</label><div class=\"sk-toggleable__content\"><pre>XGBClassifier(base_score=None, booster=None, callbacks=None,\n              colsample_bylevel=None, colsample_bynode=None,\n              colsample_bytree=None, device=None, early_stopping_rounds=None,\n              enable_categorical=False, eval_metric=None, feature_types=None,\n              gamma=None, grow_policy=None, importance_type=None,\n              interaction_constraints=None, learning_rate=0.2, max_bin=None,\n              max_cat_threshold=None, max_cat_to_onehot=None,\n              max_delta_step=None, max_depth=None, max_leaves=None,\n              min_child_weight=None, missing=nan, monotone_constraints=None,\n              multi_strategy=None, n_estimators=50, n_jobs=None,\n              num_parallel_tree=None, objective=&#x27;multi:softprob&#x27;, ...)</pre></div></div></div></div></div>"
     },
     "execution_count": 24,
     "metadata": {},
     "output_type": "execute_result"
    }
   ],
   "source": [
    "# Create a new XGBClassifier with the best parameters\n",
    "model = XGBClassifier(learning_rate=0.2, n_estimators=50)\n",
    "\n",
    "# Train the model\n",
    "model.fit(X_train, y_train)"
   ],
   "metadata": {
    "collapsed": false,
    "ExecuteTime": {
     "end_time": "2023-12-24T22:34:20.058113100Z",
     "start_time": "2023-12-24T22:34:19.805321Z"
    }
   },
   "id": "32bb8383597b2d16"
  },
  {
   "cell_type": "code",
   "execution_count": 35,
   "outputs": [
    {
     "name": "stdout",
     "output_type": "stream",
     "text": [
      "Accuracy: 0.9736842105263158\n",
      "Precision: 0.971735139880659\n",
      "Recall: 0.9726261355063394\n",
      "F1 Score: 0.9719916397520992\n",
      "AUC-ROC: 0.99898915470224\n"
     ]
    }
   ],
   "source": [
    "# Make predictions on the test set\n",
    "y_pred = model.predict(X_test)\n",
    "y_pred_proba = model.predict_proba(X_test)\n",
    "\n",
    "# Calculate the accuracy\n",
    "accuracy = accuracy_score(y_test, y_pred)\n",
    "\n",
    "# Calculate the precision\n",
    "precision = precision_score(y_test, y_pred, average='macro')\n",
    "\n",
    "# Calculate the recall\n",
    "recall = recall_score(y_test, y_pred, average='macro')\n",
    "\n",
    "# Calculate the F1 score\n",
    "f1 = f1_score(y_test, y_pred, average='macro')\n",
    "\n",
    "# Calculate the confusion matrix\n",
    "cm = confusion_matrix(y_test, y_pred)\n",
    "\n",
    "# Calculate AUC-ROC\n",
    "roc_auc = roc_auc_score(y_test, y_pred_proba, multi_class='ovr')\n",
    "\n",
    "print(f\"Accuracy: {accuracy}\")\n",
    "print(f\"Precision: {precision}\")\n",
    "print(f\"Recall: {recall}\")\n",
    "print(f\"F1 Score: {f1}\")\n",
    "print(f\"AUC-ROC: {roc_auc}\")"
   ],
   "metadata": {
    "collapsed": false,
    "ExecuteTime": {
     "end_time": "2023-12-24T22:55:53.806498700Z",
     "start_time": "2023-12-24T22:55:53.748629500Z"
    }
   },
   "id": "7005030385397913"
  },
  {
   "cell_type": "code",
   "execution_count": 36,
   "outputs": [
    {
     "data": {
      "text/plain": "<Figure size 1000x700 with 2 Axes>",
      "image/png": "[encoded data removed]"
     },
     "metadata": {},
     "output_type": "display_data"
    }
   ],
   "source": [
    "plt.figure(figsize=(10,7))\n",
    "sns.heatmap(cm, annot=True, fmt='d')\n",
    "plt.xlabel('Predicted')\n",
    "plt.ylabel('Truth')"
   ],
   "metadata": {
    "collapsed": false,
    "ExecuteTime": {
     "end_time": "2023-12-24T22:55:59.205796300Z",
     "start_time": "2023-12-24T22:55:58.495854800Z"
    }
   },
   "id": "8d7d8932d1fd9af2"
  },
  {
   "cell_type": "code",
   "execution_count": 70,
   "outputs": [],
   "source": [
    "n=pd.DataFrame([[1, 1, 1, 1, 1, 1, 1, 1, 1, 1, 1, 1, 1, 1, 1, 1]], columns=['Gender', 'Age', 'Height', 'Weight', 'family_history_with_overweight', 'FAVC', 'FCVC', 'NCP', 'CAEC', 'SMOKE', 'CH2O', 'SCC', 'FAF', 'TUE', 'CALC', 'MTRANS'])"
   ],
   "metadata": {
    "collapsed": false,
    "ExecuteTime": {
     "end_time": "2023-12-24T23:20:44.341392800Z",
     "start_time": "2023-12-24T23:20:44.314309600Z"
    }
   },
   "id": "ff7daa213690798f"
  },
  {
   "cell_type": "code",
   "execution_count": 71,
   "outputs": [
    {
     "data": {
      "text/plain": "   Gender  Age  Height  Weight  family_history_with_overweight  FAVC  FCVC  \\\n0       1    1       1       1                               1     1     1   \n\n   NCP  CAEC  SMOKE  CH2O  SCC  FAF  TUE  CALC  MTRANS  \n0    1     1      1     1    1    1    1     1       1  ",
      "text/html": "<div>\n<style scoped>\n    .dataframe tbody tr th:only-of-type {\n        vertical-align: middle;\n    }\n\n    .dataframe tbody tr th {\n        vertical-align: top;\n    }\n\n    .dataframe thead th {\n        text-align: right;\n    }\n</style>\n<table border=\"1\" class=\"dataframe\">\n  <thead>\n    <tr style=\"text-align: right;\">\n      <th></th>\n      <th>Gender</th>\n      <th>Age</th>\n      <th>Height</th>\n      <th>Weight</th>\n      <th>family_history_with_overweight</th>\n      <th>FAVC</th>\n      <th>FCVC</th>\n      <th>NCP</th>\n      <th>CAEC</th>\n      <th>SMOKE</th>\n      <th>CH2O</th>\n      <th>SCC</th>\n      <th>FAF</th>\n      <th>TUE</th>\n      <th>CALC</th>\n      <th>MTRANS</th>\n    </tr>\n  </thead>\n  <tbody>\n    <tr>\n      <th>0</th>\n      <td>1</td>\n      <td>1</td>\n      <td>1</td>\n      <td>1</td>\n      <td>1</td>\n      <td>1</td>\n      <td>1</td>\n      <td>1</td>\n      <td>1</td>\n      <td>1</td>\n      <td>1</td>\n      <td>1</td>\n      <td>1</td>\n      <td>1</td>\n      <td>1</td>\n      <td>1</td>\n    </tr>\n  </tbody>\n</table>\n</div>"
     },
     "execution_count": 71,
     "metadata": {},
     "output_type": "execute_result"
    }
   ],
   "source": [
    "n"
   ],
   "metadata": {
    "collapsed": false,
    "ExecuteTime": {
     "end_time": "2023-12-24T23:20:44.539007800Z",
     "start_time": "2023-12-24T23:20:44.504855800Z"
    }
   },
   "id": "e421456e3ece20a2"
  },
  {
   "cell_type": "code",
   "execution_count": 84,
   "outputs": [
    {
     "data": {
      "text/plain": "array(['Insufficient_Weight'], dtype=object)"
     },
     "execution_count": 84,
     "metadata": {},
     "output_type": "execute_result"
    }
   ],
   "source": [
    "prediction = model.predict(n)\n",
    "le.classes_[prediction]"
   ],
   "metadata": {
    "collapsed": false,
    "ExecuteTime": {
     "end_time": "2023-12-24T23:23:02.834489800Z",
     "start_time": "2023-12-24T23:23:02.795964200Z"
    }
   },
   "id": "85156465f2d7efd1"
  }
 ],
 "metadata": {
  "kernelspec": {
   "display_name": "Python 3",
   "language": "python",
   "name": "python3"
  },
  "language_info": {
   "codemirror_mode": {
    "name": "ipython",
    "version": 2
   },
   "file_extension": ".py",
   "mimetype": "text/x-python",
   "name": "python",
   "nbconvert_exporter": "python",
   "pygments_lexer": "ipython2",
   "version": "2.7.6"
  }
 },
 "nbformat": 4,
 "nbformat_minor": 5
}
