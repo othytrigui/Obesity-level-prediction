{
 "cells": [
  {
   "cell_type": "code",
   "execution_count": 2,
   "id": "initial_id",
   "metadata": {
    "collapsed": true,
    "ExecuteTime": {
     "end_time": "2023-12-24T14:54:45.459427700Z",
     "start_time": "2023-12-24T14:54:43.260302400Z"
    }
   },
   "outputs": [
    {
     "data": {
      "text/plain": "   Gender   Age  Height  Weight family_history_with_overweight FAVC  FCVC  \\\n0  Female  21.0    1.62    64.0                            yes   no   2.0   \n1  Female  21.0    1.52    56.0                            yes   no   3.0   \n2    Male  23.0    1.80    77.0                            yes   no   2.0   \n3    Male  27.0    1.80    87.0                             no   no   3.0   \n4    Male  22.0    1.78    89.8                             no   no   2.0   \n5    Male  29.0    1.62    53.0                             no  yes   2.0   \n6  Female  23.0    1.50    55.0                            yes  yes   3.0   \n7    Male  22.0    1.64    53.0                             no   no   2.0   \n8    Male  24.0    1.78    64.0                            yes  yes   3.0   \n9    Male  22.0    1.72    68.0                            yes  yes   2.0   \n\n   NCP       CAEC SMOKE  CH2O  SCC  FAF  TUE        CALC  \\\n0  3.0  Sometimes    no   2.0   no  0.0  1.0          no   \n1  3.0  Sometimes   yes   3.0  yes  3.0  0.0   Sometimes   \n2  3.0  Sometimes    no   2.0   no  2.0  1.0  Frequently   \n3  3.0  Sometimes    no   2.0   no  2.0  0.0  Frequently   \n4  1.0  Sometimes    no   2.0   no  0.0  0.0   Sometimes   \n5  3.0  Sometimes    no   2.0   no  0.0  0.0   Sometimes   \n6  3.0  Sometimes    no   2.0   no  1.0  0.0   Sometimes   \n7  3.0  Sometimes    no   2.0   no  3.0  0.0   Sometimes   \n8  3.0  Sometimes    no   2.0   no  1.0  1.0  Frequently   \n9  3.0  Sometimes    no   2.0   no  1.0  1.0          no   \n\n                  MTRANS           NObeyesdad  \n0  Public_Transportation        Normal_Weight  \n1  Public_Transportation        Normal_Weight  \n2  Public_Transportation        Normal_Weight  \n3                Walking   Overweight_Level_I  \n4  Public_Transportation  Overweight_Level_II  \n5             Automobile        Normal_Weight  \n6              Motorbike        Normal_Weight  \n7  Public_Transportation        Normal_Weight  \n8  Public_Transportation        Normal_Weight  \n9  Public_Transportation        Normal_Weight  ",
      "text/html": "<div>\n<style scoped>\n    .dataframe tbody tr th:only-of-type {\n        vertical-align: middle;\n    }\n\n    .dataframe tbody tr th {\n        vertical-align: top;\n    }\n\n    .dataframe thead th {\n        text-align: right;\n    }\n</style>\n<table border=\"1\" class=\"dataframe\">\n  <thead>\n    <tr style=\"text-align: right;\">\n      <th></th>\n      <th>Gender</th>\n      <th>Age</th>\n      <th>Height</th>\n      <th>Weight</th>\n      <th>family_history_with_overweight</th>\n      <th>FAVC</th>\n      <th>FCVC</th>\n      <th>NCP</th>\n      <th>CAEC</th>\n      <th>SMOKE</th>\n      <th>CH2O</th>\n      <th>SCC</th>\n      <th>FAF</th>\n      <th>TUE</th>\n      <th>CALC</th>\n      <th>MTRANS</th>\n      <th>NObeyesdad</th>\n    </tr>\n  </thead>\n  <tbody>\n    <tr>\n      <th>0</th>\n      <td>Female</td>\n      <td>21.0</td>\n      <td>1.62</td>\n      <td>64.0</td>\n      <td>yes</td>\n      <td>no</td>\n      <td>2.0</td>\n      <td>3.0</td>\n      <td>Sometimes</td>\n      <td>no</td>\n      <td>2.0</td>\n      <td>no</td>\n      <td>0.0</td>\n      <td>1.0</td>\n      <td>no</td>\n      <td>Public_Transportation</td>\n      <td>Normal_Weight</td>\n    </tr>\n    <tr>\n      <th>1</th>\n      <td>Female</td>\n      <td>21.0</td>\n      <td>1.52</td>\n      <td>56.0</td>\n      <td>yes</td>\n      <td>no</td>\n      <td>3.0</td>\n      <td>3.0</td>\n      <td>Sometimes</td>\n      <td>yes</td>\n      <td>3.0</td>\n      <td>yes</td>\n      <td>3.0</td>\n      <td>0.0</td>\n      <td>Sometimes</td>\n      <td>Public_Transportation</td>\n      <td>Normal_Weight</td>\n    </tr>\n    <tr>\n      <th>2</th>\n      <td>Male</td>\n      <td>23.0</td>\n      <td>1.80</td>\n      <td>77.0</td>\n      <td>yes</td>\n      <td>no</td>\n      <td>2.0</td>\n      <td>3.0</td>\n      <td>Sometimes</td>\n      <td>no</td>\n      <td>2.0</td>\n      <td>no</td>\n      <td>2.0</td>\n      <td>1.0</td>\n      <td>Frequently</td>\n      <td>Public_Transportation</td>\n      <td>Normal_Weight</td>\n    </tr>\n    <tr>\n      <th>3</th>\n      <td>Male</td>\n      <td>27.0</td>\n      <td>1.80</td>\n      <td>87.0</td>\n      <td>no</td>\n      <td>no</td>\n      <td>3.0</td>\n      <td>3.0</td>\n      <td>Sometimes</td>\n      <td>no</td>\n      <td>2.0</td>\n      <td>no</td>\n      <td>2.0</td>\n      <td>0.0</td>\n      <td>Frequently</td>\n      <td>Walking</td>\n      <td>Overweight_Level_I</td>\n    </tr>\n    <tr>\n      <th>4</th>\n      <td>Male</td>\n      <td>22.0</td>\n      <td>1.78</td>\n      <td>89.8</td>\n      <td>no</td>\n      <td>no</td>\n      <td>2.0</td>\n      <td>1.0</td>\n      <td>Sometimes</td>\n      <td>no</td>\n      <td>2.0</td>\n      <td>no</td>\n      <td>0.0</td>\n      <td>0.0</td>\n      <td>Sometimes</td>\n      <td>Public_Transportation</td>\n      <td>Overweight_Level_II</td>\n    </tr>\n    <tr>\n      <th>5</th>\n      <td>Male</td>\n      <td>29.0</td>\n      <td>1.62</td>\n      <td>53.0</td>\n      <td>no</td>\n      <td>yes</td>\n      <td>2.0</td>\n      <td>3.0</td>\n      <td>Sometimes</td>\n      <td>no</td>\n      <td>2.0</td>\n      <td>no</td>\n      <td>0.0</td>\n      <td>0.0</td>\n      <td>Sometimes</td>\n      <td>Automobile</td>\n      <td>Normal_Weight</td>\n    </tr>\n    <tr>\n      <th>6</th>\n      <td>Female</td>\n      <td>23.0</td>\n      <td>1.50</td>\n      <td>55.0</td>\n      <td>yes</td>\n      <td>yes</td>\n      <td>3.0</td>\n      <td>3.0</td>\n      <td>Sometimes</td>\n      <td>no</td>\n      <td>2.0</td>\n      <td>no</td>\n      <td>1.0</td>\n      <td>0.0</td>\n      <td>Sometimes</td>\n      <td>Motorbike</td>\n      <td>Normal_Weight</td>\n    </tr>\n    <tr>\n      <th>7</th>\n      <td>Male</td>\n      <td>22.0</td>\n      <td>1.64</td>\n      <td>53.0</td>\n      <td>no</td>\n      <td>no</td>\n      <td>2.0</td>\n      <td>3.0</td>\n      <td>Sometimes</td>\n      <td>no</td>\n      <td>2.0</td>\n      <td>no</td>\n      <td>3.0</td>\n      <td>0.0</td>\n      <td>Sometimes</td>\n      <td>Public_Transportation</td>\n      <td>Normal_Weight</td>\n    </tr>\n    <tr>\n      <th>8</th>\n      <td>Male</td>\n      <td>24.0</td>\n      <td>1.78</td>\n      <td>64.0</td>\n      <td>yes</td>\n      <td>yes</td>\n      <td>3.0</td>\n      <td>3.0</td>\n      <td>Sometimes</td>\n      <td>no</td>\n      <td>2.0</td>\n      <td>no</td>\n      <td>1.0</td>\n      <td>1.0</td>\n      <td>Frequently</td>\n      <td>Public_Transportation</td>\n      <td>Normal_Weight</td>\n    </tr>\n    <tr>\n      <th>9</th>\n      <td>Male</td>\n      <td>22.0</td>\n      <td>1.72</td>\n      <td>68.0</td>\n      <td>yes</td>\n      <td>yes</td>\n      <td>2.0</td>\n      <td>3.0</td>\n      <td>Sometimes</td>\n      <td>no</td>\n      <td>2.0</td>\n      <td>no</td>\n      <td>1.0</td>\n      <td>1.0</td>\n      <td>no</td>\n      <td>Public_Transportation</td>\n      <td>Normal_Weight</td>\n    </tr>\n  </tbody>\n</table>\n</div>"
     },
     "execution_count": 2,
     "metadata": {},
     "output_type": "execute_result"
    }
   ],
   "source": [
    "import pandas as pd\n",
    "from sklearn.preprocessing import LabelEncoder\n",
    "\n",
    "df = pd.read_csv(r'./data.csv')\n",
    "\n",
    "df.head(10)"
   ]
  },
  {
   "cell_type": "code",
   "execution_count": 3,
   "outputs": [
    {
     "name": "stdout",
     "output_type": "stream",
     "text": [
      "Gender mapping: {'Female': 0, 'Male': 1}\n",
      "family_history_with_overweight mapping: {'no': 0, 'yes': 1}\n",
      "FAVC mapping: {'no': 0, 'yes': 1}\n",
      "CAEC mapping: {'Always': 0, 'Frequently': 1, 'Sometimes': 2, 'no': 3}\n",
      "SMOKE mapping: {'no': 0, 'yes': 1}\n",
      "SCC mapping: {'no': 0, 'yes': 1}\n",
      "CALC mapping: {'Always': 0, 'Frequently': 1, 'Sometimes': 2, 'no': 3}\n",
      "MTRANS mapping: {'Automobile': 0, 'Bike': 1, 'Motorbike': 2, 'Public_Transportation': 3, 'Walking': 4}\n",
      "NObeyesdad mapping: {'Insufficient_Weight': 0, 'Normal_Weight': 1, 'Obesity_Type_I': 2, 'Obesity_Type_II': 3, 'Obesity_Type_III': 4, 'Overweight_Level_I': 5, 'Overweight_Level_II': 6}\n"
     ]
    }
   ],
   "source": [
    "# Create a label encoder object\n",
    "le = LabelEncoder()\n",
    "\n",
    "# Get the list of categorical columns\n",
    "categorical_cols = df.select_dtypes(include=['object']).columns\n",
    "\n",
    "# Apply LabelEncoder on each of the categorical columns:\n",
    "for col in categorical_cols:\n",
    "    df[col] = le.fit_transform(df[col])\n",
    "    print(f\"{col} mapping: {dict(zip(le.classes_, le.transform(le.classes_)))}\")"
   ],
   "metadata": {
    "collapsed": false,
    "ExecuteTime": {
     "end_time": "2023-12-24T14:56:37.080090500Z",
     "start_time": "2023-12-24T14:56:37.049861400Z"
    }
   },
   "id": "845163ff835b20b"
  },
  {
   "cell_type": "code",
   "execution_count": 4,
   "outputs": [
    {
     "data": {
      "text/plain": "      Gender        Age    Height      Weight  family_history_with_overweight  \\\n0          0  21.000000  1.620000   64.000000                               1   \n1          0  21.000000  1.520000   56.000000                               1   \n2          1  23.000000  1.800000   77.000000                               1   \n3          1  27.000000  1.800000   87.000000                               0   \n4          1  22.000000  1.780000   89.800000                               0   \n...      ...        ...       ...         ...                             ...   \n2106       0  20.976842  1.710730  131.408528                               1   \n2107       0  21.982942  1.748584  133.742943                               1   \n2108       0  22.524036  1.752206  133.689352                               1   \n2109       0  24.361936  1.739450  133.346641                               1   \n2110       0  23.664709  1.738836  133.472641                               1   \n\n      FAVC  FCVC  NCP  CAEC  SMOKE      CH2O  SCC       FAF       TUE  CALC  \\\n0        0   2.0  3.0     2      0  2.000000    0  0.000000  1.000000     3   \n1        0   3.0  3.0     2      1  3.000000    1  3.000000  0.000000     2   \n2        0   2.0  3.0     2      0  2.000000    0  2.000000  1.000000     1   \n3        0   3.0  3.0     2      0  2.000000    0  2.000000  0.000000     1   \n4        0   2.0  1.0     2      0  2.000000    0  0.000000  0.000000     2   \n...    ...   ...  ...   ...    ...       ...  ...       ...       ...   ...   \n2106     1   3.0  3.0     2      0  1.728139    0  1.676269  0.906247     2   \n2107     1   3.0  3.0     2      0  2.005130    0  1.341390  0.599270     2   \n2108     1   3.0  3.0     2      0  2.054193    0  1.414209  0.646288     2   \n2109     1   3.0  3.0     2      0  2.852339    0  1.139107  0.586035     2   \n2110     1   3.0  3.0     2      0  2.863513    0  1.026452  0.714137     2   \n\n      MTRANS  NObeyesdad  \n0          3           1  \n1          3           1  \n2          3           1  \n3          4           5  \n4          3           6  \n...      ...         ...  \n2106       3           4  \n2107       3           4  \n2108       3           4  \n2109       3           4  \n2110       3           4  \n\n[2111 rows x 17 columns]",
      "text/html": "<div>\n<style scoped>\n    .dataframe tbody tr th:only-of-type {\n        vertical-align: middle;\n    }\n\n    .dataframe tbody tr th {\n        vertical-align: top;\n    }\n\n    .dataframe thead th {\n        text-align: right;\n    }\n</style>\n<table border=\"1\" class=\"dataframe\">\n  <thead>\n    <tr style=\"text-align: right;\">\n      <th></th>\n      <th>Gender</th>\n      <th>Age</th>\n      <th>Height</th>\n      <th>Weight</th>\n      <th>family_history_with_overweight</th>\n      <th>FAVC</th>\n      <th>FCVC</th>\n      <th>NCP</th>\n      <th>CAEC</th>\n      <th>SMOKE</th>\n      <th>CH2O</th>\n      <th>SCC</th>\n      <th>FAF</th>\n      <th>TUE</th>\n      <th>CALC</th>\n      <th>MTRANS</th>\n      <th>NObeyesdad</th>\n    </tr>\n  </thead>\n  <tbody>\n    <tr>\n      <th>0</th>\n      <td>0</td>\n      <td>21.000000</td>\n      <td>1.620000</td>\n      <td>64.000000</td>\n      <td>1</td>\n      <td>0</td>\n      <td>2.0</td>\n      <td>3.0</td>\n      <td>2</td>\n      <td>0</td>\n      <td>2.000000</td>\n      <td>0</td>\n      <td>0.000000</td>\n      <td>1.000000</td>\n      <td>3</td>\n      <td>3</td>\n      <td>1</td>\n    </tr>\n    <tr>\n      <th>1</th>\n      <td>0</td>\n      <td>21.000000</td>\n      <td>1.520000</td>\n      <td>56.000000</td>\n      <td>1</td>\n      <td>0</td>\n      <td>3.0</td>\n      <td>3.0</td>\n      <td>2</td>\n      <td>1</td>\n      <td>3.000000</td>\n      <td>1</td>\n      <td>3.000000</td>\n      <td>0.000000</td>\n      <td>2</td>\n      <td>3</td>\n      <td>1</td>\n    </tr>\n    <tr>\n      <th>2</th>\n      <td>1</td>\n      <td>23.000000</td>\n      <td>1.800000</td>\n      <td>77.000000</td>\n      <td>1</td>\n      <td>0</td>\n      <td>2.0</td>\n      <td>3.0</td>\n      <td>2</td>\n      <td>0</td>\n      <td>2.000000</td>\n      <td>0</td>\n      <td>2.000000</td>\n      <td>1.000000</td>\n      <td>1</td>\n      <td>3</td>\n      <td>1</td>\n    </tr>\n    <tr>\n      <th>3</th>\n      <td>1</td>\n      <td>27.000000</td>\n      <td>1.800000</td>\n      <td>87.000000</td>\n      <td>0</td>\n      <td>0</td>\n      <td>3.0</td>\n      <td>3.0</td>\n      <td>2</td>\n      <td>0</td>\n      <td>2.000000</td>\n      <td>0</td>\n      <td>2.000000</td>\n      <td>0.000000</td>\n      <td>1</td>\n      <td>4</td>\n      <td>5</td>\n    </tr>\n    <tr>\n      <th>4</th>\n      <td>1</td>\n      <td>22.000000</td>\n      <td>1.780000</td>\n      <td>89.800000</td>\n      <td>0</td>\n      <td>0</td>\n      <td>2.0</td>\n      <td>1.0</td>\n      <td>2</td>\n      <td>0</td>\n      <td>2.000000</td>\n      <td>0</td>\n      <td>0.000000</td>\n      <td>0.000000</td>\n      <td>2</td>\n      <td>3</td>\n      <td>6</td>\n    </tr>\n    <tr>\n      <th>...</th>\n      <td>...</td>\n      <td>...</td>\n      <td>...</td>\n      <td>...</td>\n      <td>...</td>\n      <td>...</td>\n      <td>...</td>\n      <td>...</td>\n      <td>...</td>\n      <td>...</td>\n      <td>...</td>\n      <td>...</td>\n      <td>...</td>\n      <td>...</td>\n      <td>...</td>\n      <td>...</td>\n      <td>...</td>\n    </tr>\n    <tr>\n      <th>2106</th>\n      <td>0</td>\n      <td>20.976842</td>\n      <td>1.710730</td>\n      <td>131.408528</td>\n      <td>1</td>\n      <td>1</td>\n      <td>3.0</td>\n      <td>3.0</td>\n      <td>2</td>\n      <td>0</td>\n      <td>1.728139</td>\n      <td>0</td>\n      <td>1.676269</td>\n      <td>0.906247</td>\n      <td>2</td>\n      <td>3</td>\n      <td>4</td>\n    </tr>\n    <tr>\n      <th>2107</th>\n      <td>0</td>\n      <td>21.982942</td>\n      <td>1.748584</td>\n      <td>133.742943</td>\n      <td>1</td>\n      <td>1</td>\n      <td>3.0</td>\n      <td>3.0</td>\n      <td>2</td>\n      <td>0</td>\n      <td>2.005130</td>\n      <td>0</td>\n      <td>1.341390</td>\n      <td>0.599270</td>\n      <td>2</td>\n      <td>3</td>\n      <td>4</td>\n    </tr>\n    <tr>\n      <th>2108</th>\n      <td>0</td>\n      <td>22.524036</td>\n      <td>1.752206</td>\n      <td>133.689352</td>\n      <td>1</td>\n      <td>1</td>\n      <td>3.0</td>\n      <td>3.0</td>\n      <td>2</td>\n      <td>0</td>\n      <td>2.054193</td>\n      <td>0</td>\n      <td>1.414209</td>\n      <td>0.646288</td>\n      <td>2</td>\n      <td>3</td>\n      <td>4</td>\n    </tr>\n    <tr>\n      <th>2109</th>\n      <td>0</td>\n      <td>24.361936</td>\n      <td>1.739450</td>\n      <td>133.346641</td>\n      <td>1</td>\n      <td>1</td>\n      <td>3.0</td>\n      <td>3.0</td>\n      <td>2</td>\n      <td>0</td>\n      <td>2.852339</td>\n      <td>0</td>\n      <td>1.139107</td>\n      <td>0.586035</td>\n      <td>2</td>\n      <td>3</td>\n      <td>4</td>\n    </tr>\n    <tr>\n      <th>2110</th>\n      <td>0</td>\n      <td>23.664709</td>\n      <td>1.738836</td>\n      <td>133.472641</td>\n      <td>1</td>\n      <td>1</td>\n      <td>3.0</td>\n      <td>3.0</td>\n      <td>2</td>\n      <td>0</td>\n      <td>2.863513</td>\n      <td>0</td>\n      <td>1.026452</td>\n      <td>0.714137</td>\n      <td>2</td>\n      <td>3</td>\n      <td>4</td>\n    </tr>\n  </tbody>\n</table>\n<p>2111 rows × 17 columns</p>\n</div>"
     },
     "execution_count": 4,
     "metadata": {},
     "output_type": "execute_result"
    }
   ],
   "source": [
    "df"
   ],
   "metadata": {
    "collapsed": false,
    "ExecuteTime": {
     "end_time": "2023-12-24T14:56:43.695105800Z",
     "start_time": "2023-12-24T14:56:43.621108700Z"
    }
   },
   "id": "9fb344137c898d51"
  },
  {
   "cell_type": "code",
   "execution_count": 6,
   "outputs": [
    {
     "name": "stdout",
     "output_type": "stream",
     "text": [
      "Weight                            47.007507\n",
      "Height                            22.447634\n",
      "Gender                            15.793616\n",
      "Age                                4.704102\n",
      "CALC                               2.317002\n",
      "FAVC                               2.023027\n",
      "FCVC                               1.890400\n",
      "CAEC                               1.109199\n",
      "CH2O                               0.748175\n",
      "MTRANS                             0.466127\n",
      "NCP                                0.442239\n",
      "TUE                                0.380046\n",
      "SMOKE                              0.322222\n",
      "FAF                                0.210380\n",
      "family_history_with_overweight     0.082993\n",
      "SCC                                0.055329\n",
      "dtype: float64\n"
     ]
    }
   ],
   "source": [
    "from sklearn.tree import DecisionTreeClassifier\n",
    "\n",
    "# Assuming 'target' is your target variable\n",
    "X = df.drop('NObeyesdad', axis=1)\n",
    "y = df['NObeyesdad']\n",
    "\n",
    "# Train a DecisionTreeClassifier\n",
    "clf = DecisionTreeClassifier(random_state=0)\n",
    "clf.fit(X, y)\n",
    "\n",
    "# Get feature importances\n",
    "importances = clf.feature_importances_ * 100\n",
    "\n",
    "# Map importances to the corresponding feature names and sort them\n",
    "feature_importances = pd.Series(importances, index=X.columns).sort_values(ascending=False)\n",
    "\n",
    "print(feature_importances)"
   ],
   "metadata": {
    "collapsed": false,
    "ExecuteTime": {
     "end_time": "2023-12-24T15:05:36.535062800Z",
     "start_time": "2023-12-24T15:05:36.491369900Z"
    }
   },
   "id": "4497dd2b616497f9"
  },
  {
   "cell_type": "code",
   "execution_count": null,
   "outputs": [],
   "source": [],
   "metadata": {
    "collapsed": false
   },
   "id": "3e2739966e4e77b"
  }
 ],
 "metadata": {
  "kernelspec": {
   "display_name": "Python 3",
   "language": "python",
   "name": "python3"
  },
  "language_info": {
   "codemirror_mode": {
    "name": "ipython",
    "version": 2
   },
   "file_extension": ".py",
   "mimetype": "text/x-python",
   "name": "python",
   "nbconvert_exporter": "python",
   "pygments_lexer": "ipython2",
   "version": "2.7.6"
  }
 },
 "nbformat": 4,
 "nbformat_minor": 5
}
