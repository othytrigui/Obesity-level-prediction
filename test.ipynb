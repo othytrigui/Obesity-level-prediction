{
 "cells": [
  {
   "cell_type": "code",
   "execution_count": 27,
   "id": "initial_id",
   "metadata": {
    "collapsed": true,
    "ExecuteTime": {
     "end_time": "2023-12-25T18:44:01.834048300Z",
     "start_time": "2023-12-25T18:44:01.771208600Z"
    }
   },
   "outputs": [],
   "source": [
    "import pickle\n",
    "import numpy as np\n",
    "\n",
    "# Load the model from disk\n",
    "filename = 'final_model.pkl'\n",
    "loaded_model = pickle.load(open(filename, 'rb'))"
   ]
  },
  {
   "cell_type": "code",
   "execution_count": 28,
   "outputs": [],
   "source": [
    "NObeyesdad_mapping = {0: 'Insufficient Weight', 1: 'Normal Weight', 2: 'Obesity Type I', 3: 'Obesity Type II', 4: 'Obesity Type III', 5: 'Overweight Level I', 6: 'Overweight Level II'}"
   ],
   "metadata": {
    "collapsed": false,
    "ExecuteTime": {
     "end_time": "2023-12-25T18:44:03.541714100Z",
     "start_time": "2023-12-25T18:44:03.531965200Z"
    }
   },
   "id": "e5a9494740aa84dd"
  },
  {
   "cell_type": "code",
   "execution_count": 29,
   "outputs": [
    {
     "name": "stdout",
     "output_type": "stream",
     "text": [
      "The prediction of obesity level is: Insufficient Weight\n"
     ]
    }
   ],
   "source": [
    "test_example = np.array([[1, 1, 1, 1, 1, 1, 1, 1, 1, 1, 1, 1, 1, 1, 1, 1]])\n",
    "\n",
    "prediction = loaded_model.predict(test_example)\n",
    "\n",
    "print('The prediction of obesity level is:', NObeyesdad_mapping.get(prediction[0]))"
   ],
   "metadata": {
    "collapsed": false,
    "ExecuteTime": {
     "end_time": "2023-12-25T18:44:07.106264900Z",
     "start_time": "2023-12-25T18:44:07.092503400Z"
    }
   },
   "id": "fb1b07428c7a54a8"
  },
  {
   "cell_type": "code",
   "execution_count": null,
   "outputs": [],
   "source": [
    "models = models\n",
    "accuracy_max = accuracy_max\n",
    "accuracy_mean = accuracy_mean\n",
    "accuracy_min = accuracy_min\n",
    "\n",
    "fig = go.Figure()\n",
    "\n",
    "for i, model in enumerate(models):\n",
    "    fig.add_trace(go.Scatter(\n",
    "        y=[model, model, model],\n",
    "        x=[accuracy_min[i], accuracy_mean[i], accuracy_max[i]],\n",
    "        mode='lines+markers',\n",
    "        name=model,\n",
    "        hovertemplate ='%{x:.2f}<extra></extra>'\n",
    "    ))\n",
    "\n",
    "fig.update_layout(title='Model Performance', yaxis_title='Model', xaxis_title='Score', plot_bgcolor='white')\n",
    "fig.update_yaxes(ticksuffix='    ')\n",
    "fig.show()"
   ],
   "metadata": {
    "collapsed": false
   },
   "id": "53a3f2b7c1c26e9d"
  }
 ],
 "metadata": {
  "kernelspec": {
   "display_name": "Python 3",
   "language": "python",
   "name": "python3"
  },
  "language_info": {
   "codemirror_mode": {
    "name": "ipython",
    "version": 2
   },
   "file_extension": ".py",
   "mimetype": "text/x-python",
   "name": "python",
   "nbconvert_exporter": "python",
   "pygments_lexer": "ipython2",
   "version": "2.7.6"
  }
 },
 "nbformat": 4,
 "nbformat_minor": 5
}
